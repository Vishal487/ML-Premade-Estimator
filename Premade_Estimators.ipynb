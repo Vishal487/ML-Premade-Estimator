{
  "nbformat": 4,
  "nbformat_minor": 0,
  "metadata": {
    "colab": {
      "name": "Premade Estimators.ipynb",
      "provenance": [],
      "collapsed_sections": [],
      "authorship_tag": "ABX9TyO8JtXDzJqZJ6pS2V4RRYuQ",
      "include_colab_link": true
    },
    "kernelspec": {
      "name": "python3",
      "display_name": "Python 3"
    }
  },
  "cells": [
    {
      "cell_type": "markdown",
      "metadata": {
        "id": "view-in-github",
        "colab_type": "text"
      },
      "source": [
        "<a href=\"https://colab.research.google.com/github/Vishal487/ML-Premade-Estimator/blob/master/Premade_Estimators.ipynb\" target=\"_parent\"><img src=\"https://colab.research.google.com/assets/colab-badge.svg\" alt=\"Open In Colab\"/></a>"
      ]
    },
    {
      "cell_type": "markdown",
      "metadata": {
        "id": "MI1kCl2xtE5r",
        "colab_type": "text"
      },
      "source": [
        "This tutorial shows you how to solve the Iris classification problem in TensorFlow using Estimators. An Estimator is TensorFlow's high-level representation of a complete model, and it has been designed for easy scaling and asynchronous training."
      ]
    },
    {
      "cell_type": "code",
      "metadata": {
        "id": "-nnm_VtctfS1",
        "colab_type": "code",
        "colab": {}
      },
      "source": [
        "import pandas as pd\n",
        "import tensorflow as tf\n"
      ],
      "execution_count": null,
      "outputs": []
    },
    {
      "cell_type": "markdown",
      "metadata": {
        "id": "g9oqcUgmtkIU",
        "colab_type": "text"
      },
      "source": [
        "## The data set\n",
        "The sample program in this document builds and tests a model that classifies Iris flowers into three different species based on the size of their sepals and petals.\n",
        "\n",
        "You will train a model using the Iris data set. The Iris data set contains four features and one label. The four features identify the following botanical characteristics of individual Iris flowers:\n",
        "\n",
        "* sepal length\n",
        "* sepal width\n",
        "* petal length\n",
        "* petal width"
      ]
    },
    {
      "cell_type": "code",
      "metadata": {
        "id": "puNmvtYRtpYP",
        "colab_type": "code",
        "colab": {}
      },
      "source": [
        "CSV_COLUMN_NAMES = ['Sepallength', 'Sepalwidth', 'Petallength', 'Petalwidth', 'Species']\n",
        "SPECIES = ['Setosa', 'Versicolor', 'Viginica']"
      ],
      "execution_count": null,
      "outputs": []
    },
    {
      "cell_type": "code",
      "metadata": {
        "id": "tgCbL8PHuEtQ",
        "colab_type": "code",
        "colab": {}
      },
      "source": [
        "train_path = tf.keras.utils.get_file(\"iris_training.csv\", \"https://storage.googleapis.com/download.tensorflow.org/data/iris_training.csv\")\n",
        "test_path = tf.keras.utils.get_file(\"iris_test.csv\", \"https://storage.googleapis.com/download.tensorflow.org/data/iris_test.csv\")\n",
        "\n",
        "train = pd.read_csv(train_path, names=CSV_COLUMN_NAMES, header=0)\n",
        "test = pd.read_csv(test_path, names=CSV_COLUMN_NAMES, header=0)"
      ],
      "execution_count": null,
      "outputs": []
    },
    {
      "cell_type": "code",
      "metadata": {
        "id": "dy5LhfsbuqzW",
        "colab_type": "code",
        "colab": {
          "base_uri": "https://localhost:8080/",
          "height": 195
        },
        "outputId": "6bc237c4-65f9-408d-cecc-b9958763bed0"
      },
      "source": [
        "train.head()"
      ],
      "execution_count": null,
      "outputs": [
        {
          "output_type": "execute_result",
          "data": {
            "text/html": [
              "<div>\n",
              "<style scoped>\n",
              "    .dataframe tbody tr th:only-of-type {\n",
              "        vertical-align: middle;\n",
              "    }\n",
              "\n",
              "    .dataframe tbody tr th {\n",
              "        vertical-align: top;\n",
              "    }\n",
              "\n",
              "    .dataframe thead th {\n",
              "        text-align: right;\n",
              "    }\n",
              "</style>\n",
              "<table border=\"1\" class=\"dataframe\">\n",
              "  <thead>\n",
              "    <tr style=\"text-align: right;\">\n",
              "      <th></th>\n",
              "      <th>Sepallength</th>\n",
              "      <th>Sepalwidth</th>\n",
              "      <th>Petallength</th>\n",
              "      <th>Petalwidth</th>\n",
              "      <th>Species</th>\n",
              "    </tr>\n",
              "  </thead>\n",
              "  <tbody>\n",
              "    <tr>\n",
              "      <th>0</th>\n",
              "      <td>6.4</td>\n",
              "      <td>2.8</td>\n",
              "      <td>5.6</td>\n",
              "      <td>2.2</td>\n",
              "      <td>2</td>\n",
              "    </tr>\n",
              "    <tr>\n",
              "      <th>1</th>\n",
              "      <td>5.0</td>\n",
              "      <td>2.3</td>\n",
              "      <td>3.3</td>\n",
              "      <td>1.0</td>\n",
              "      <td>1</td>\n",
              "    </tr>\n",
              "    <tr>\n",
              "      <th>2</th>\n",
              "      <td>4.9</td>\n",
              "      <td>2.5</td>\n",
              "      <td>4.5</td>\n",
              "      <td>1.7</td>\n",
              "      <td>2</td>\n",
              "    </tr>\n",
              "    <tr>\n",
              "      <th>3</th>\n",
              "      <td>4.9</td>\n",
              "      <td>3.1</td>\n",
              "      <td>1.5</td>\n",
              "      <td>0.1</td>\n",
              "      <td>0</td>\n",
              "    </tr>\n",
              "    <tr>\n",
              "      <th>4</th>\n",
              "      <td>5.7</td>\n",
              "      <td>3.8</td>\n",
              "      <td>1.7</td>\n",
              "      <td>0.3</td>\n",
              "      <td>0</td>\n",
              "    </tr>\n",
              "  </tbody>\n",
              "</table>\n",
              "</div>"
            ],
            "text/plain": [
              "   Sepallength  Sepalwidth  Petallength  Petalwidth  Species\n",
              "0          6.4         2.8          5.6         2.2        2\n",
              "1          5.0         2.3          3.3         1.0        1\n",
              "2          4.9         2.5          4.5         1.7        2\n",
              "3          4.9         3.1          1.5         0.1        0\n",
              "4          5.7         3.8          1.7         0.3        0"
            ]
          },
          "metadata": {
            "tags": []
          },
          "execution_count": 4
        }
      ]
    },
    {
      "cell_type": "code",
      "metadata": {
        "id": "82XDHBRzutAT",
        "colab_type": "code",
        "colab": {
          "base_uri": "https://localhost:8080/",
          "height": 195
        },
        "outputId": "15b89432-b671-4b51-d64e-24b171c0583b"
      },
      "source": [
        "test.head()"
      ],
      "execution_count": null,
      "outputs": [
        {
          "output_type": "execute_result",
          "data": {
            "text/html": [
              "<div>\n",
              "<style scoped>\n",
              "    .dataframe tbody tr th:only-of-type {\n",
              "        vertical-align: middle;\n",
              "    }\n",
              "\n",
              "    .dataframe tbody tr th {\n",
              "        vertical-align: top;\n",
              "    }\n",
              "\n",
              "    .dataframe thead th {\n",
              "        text-align: right;\n",
              "    }\n",
              "</style>\n",
              "<table border=\"1\" class=\"dataframe\">\n",
              "  <thead>\n",
              "    <tr style=\"text-align: right;\">\n",
              "      <th></th>\n",
              "      <th>Sepallength</th>\n",
              "      <th>Sepalwidth</th>\n",
              "      <th>Petallength</th>\n",
              "      <th>Petalwidth</th>\n",
              "      <th>Species</th>\n",
              "    </tr>\n",
              "  </thead>\n",
              "  <tbody>\n",
              "    <tr>\n",
              "      <th>0</th>\n",
              "      <td>5.9</td>\n",
              "      <td>3.0</td>\n",
              "      <td>4.2</td>\n",
              "      <td>1.5</td>\n",
              "      <td>1</td>\n",
              "    </tr>\n",
              "    <tr>\n",
              "      <th>1</th>\n",
              "      <td>6.9</td>\n",
              "      <td>3.1</td>\n",
              "      <td>5.4</td>\n",
              "      <td>2.1</td>\n",
              "      <td>2</td>\n",
              "    </tr>\n",
              "    <tr>\n",
              "      <th>2</th>\n",
              "      <td>5.1</td>\n",
              "      <td>3.3</td>\n",
              "      <td>1.7</td>\n",
              "      <td>0.5</td>\n",
              "      <td>0</td>\n",
              "    </tr>\n",
              "    <tr>\n",
              "      <th>3</th>\n",
              "      <td>6.0</td>\n",
              "      <td>3.4</td>\n",
              "      <td>4.5</td>\n",
              "      <td>1.6</td>\n",
              "      <td>1</td>\n",
              "    </tr>\n",
              "    <tr>\n",
              "      <th>4</th>\n",
              "      <td>5.5</td>\n",
              "      <td>2.5</td>\n",
              "      <td>4.0</td>\n",
              "      <td>1.3</td>\n",
              "      <td>1</td>\n",
              "    </tr>\n",
              "  </tbody>\n",
              "</table>\n",
              "</div>"
            ],
            "text/plain": [
              "   Sepallength  Sepalwidth  Petallength  Petalwidth  Species\n",
              "0          5.9         3.0          4.2         1.5        1\n",
              "1          6.9         3.1          5.4         2.1        2\n",
              "2          5.1         3.3          1.7         0.5        0\n",
              "3          6.0         3.4          4.5         1.6        1\n",
              "4          5.5         2.5          4.0         1.3        1"
            ]
          },
          "metadata": {
            "tags": []
          },
          "execution_count": 5
        }
      ]
    },
    {
      "cell_type": "code",
      "metadata": {
        "id": "25yPCMLPuuS1",
        "colab_type": "code",
        "colab": {}
      },
      "source": [
        "# SEPARATING label\n",
        "\n",
        "train_y = train.pop('Species')\n",
        "test_y = test.pop('Species')\n"
      ],
      "execution_count": null,
      "outputs": []
    },
    {
      "cell_type": "code",
      "metadata": {
        "id": "ZMyAVZot3LwE",
        "colab_type": "code",
        "colab": {
          "base_uri": "https://localhost:8080/",
          "height": 84
        },
        "outputId": "7ecc1f24-024b-46a8-a97a-e6b2d1f5598f"
      },
      "source": [
        "train_y.value_counts()"
      ],
      "execution_count": null,
      "outputs": [
        {
          "output_type": "execute_result",
          "data": {
            "text/plain": [
              "2    42\n",
              "0    42\n",
              "1    36\n",
              "Name: Species, dtype: int64"
            ]
          },
          "metadata": {
            "tags": []
          },
          "execution_count": 7
        }
      ]
    },
    {
      "cell_type": "code",
      "metadata": {
        "id": "fYFNW56WvCp8",
        "colab_type": "code",
        "colab": {
          "base_uri": "https://localhost:8080/",
          "height": 195
        },
        "outputId": "a991b5f2-8927-4064-e7ae-c0555b92dbed"
      },
      "source": [
        "# now see all the features\n",
        "\n",
        "train.head()"
      ],
      "execution_count": null,
      "outputs": [
        {
          "output_type": "execute_result",
          "data": {
            "text/html": [
              "<div>\n",
              "<style scoped>\n",
              "    .dataframe tbody tr th:only-of-type {\n",
              "        vertical-align: middle;\n",
              "    }\n",
              "\n",
              "    .dataframe tbody tr th {\n",
              "        vertical-align: top;\n",
              "    }\n",
              "\n",
              "    .dataframe thead th {\n",
              "        text-align: right;\n",
              "    }\n",
              "</style>\n",
              "<table border=\"1\" class=\"dataframe\">\n",
              "  <thead>\n",
              "    <tr style=\"text-align: right;\">\n",
              "      <th></th>\n",
              "      <th>Sepallength</th>\n",
              "      <th>Sepalwidth</th>\n",
              "      <th>Petallength</th>\n",
              "      <th>Petalwidth</th>\n",
              "    </tr>\n",
              "  </thead>\n",
              "  <tbody>\n",
              "    <tr>\n",
              "      <th>0</th>\n",
              "      <td>6.4</td>\n",
              "      <td>2.8</td>\n",
              "      <td>5.6</td>\n",
              "      <td>2.2</td>\n",
              "    </tr>\n",
              "    <tr>\n",
              "      <th>1</th>\n",
              "      <td>5.0</td>\n",
              "      <td>2.3</td>\n",
              "      <td>3.3</td>\n",
              "      <td>1.0</td>\n",
              "    </tr>\n",
              "    <tr>\n",
              "      <th>2</th>\n",
              "      <td>4.9</td>\n",
              "      <td>2.5</td>\n",
              "      <td>4.5</td>\n",
              "      <td>1.7</td>\n",
              "    </tr>\n",
              "    <tr>\n",
              "      <th>3</th>\n",
              "      <td>4.9</td>\n",
              "      <td>3.1</td>\n",
              "      <td>1.5</td>\n",
              "      <td>0.1</td>\n",
              "    </tr>\n",
              "    <tr>\n",
              "      <th>4</th>\n",
              "      <td>5.7</td>\n",
              "      <td>3.8</td>\n",
              "      <td>1.7</td>\n",
              "      <td>0.3</td>\n",
              "    </tr>\n",
              "  </tbody>\n",
              "</table>\n",
              "</div>"
            ],
            "text/plain": [
              "   Sepallength  Sepalwidth  Petallength  Petalwidth\n",
              "0          6.4         2.8          5.6         2.2\n",
              "1          5.0         2.3          3.3         1.0\n",
              "2          4.9         2.5          4.5         1.7\n",
              "3          4.9         3.1          1.5         0.1\n",
              "4          5.7         3.8          1.7         0.3"
            ]
          },
          "metadata": {
            "tags": []
          },
          "execution_count": 8
        }
      ]
    },
    {
      "cell_type": "code",
      "metadata": {
        "id": "pS3M8CgxvHNv",
        "colab_type": "code",
        "colab": {
          "base_uri": "https://localhost:8080/",
          "height": 195
        },
        "outputId": "17a8151d-b0fb-48f4-a2a2-a2f6abfeee4a"
      },
      "source": [
        "test.head()"
      ],
      "execution_count": null,
      "outputs": [
        {
          "output_type": "execute_result",
          "data": {
            "text/html": [
              "<div>\n",
              "<style scoped>\n",
              "    .dataframe tbody tr th:only-of-type {\n",
              "        vertical-align: middle;\n",
              "    }\n",
              "\n",
              "    .dataframe tbody tr th {\n",
              "        vertical-align: top;\n",
              "    }\n",
              "\n",
              "    .dataframe thead th {\n",
              "        text-align: right;\n",
              "    }\n",
              "</style>\n",
              "<table border=\"1\" class=\"dataframe\">\n",
              "  <thead>\n",
              "    <tr style=\"text-align: right;\">\n",
              "      <th></th>\n",
              "      <th>Sepallength</th>\n",
              "      <th>Sepalwidth</th>\n",
              "      <th>Petallength</th>\n",
              "      <th>Petalwidth</th>\n",
              "    </tr>\n",
              "  </thead>\n",
              "  <tbody>\n",
              "    <tr>\n",
              "      <th>0</th>\n",
              "      <td>5.9</td>\n",
              "      <td>3.0</td>\n",
              "      <td>4.2</td>\n",
              "      <td>1.5</td>\n",
              "    </tr>\n",
              "    <tr>\n",
              "      <th>1</th>\n",
              "      <td>6.9</td>\n",
              "      <td>3.1</td>\n",
              "      <td>5.4</td>\n",
              "      <td>2.1</td>\n",
              "    </tr>\n",
              "    <tr>\n",
              "      <th>2</th>\n",
              "      <td>5.1</td>\n",
              "      <td>3.3</td>\n",
              "      <td>1.7</td>\n",
              "      <td>0.5</td>\n",
              "    </tr>\n",
              "    <tr>\n",
              "      <th>3</th>\n",
              "      <td>6.0</td>\n",
              "      <td>3.4</td>\n",
              "      <td>4.5</td>\n",
              "      <td>1.6</td>\n",
              "    </tr>\n",
              "    <tr>\n",
              "      <th>4</th>\n",
              "      <td>5.5</td>\n",
              "      <td>2.5</td>\n",
              "      <td>4.0</td>\n",
              "      <td>1.3</td>\n",
              "    </tr>\n",
              "  </tbody>\n",
              "</table>\n",
              "</div>"
            ],
            "text/plain": [
              "   Sepallength  Sepalwidth  Petallength  Petalwidth\n",
              "0          5.9         3.0          4.2         1.5\n",
              "1          6.9         3.1          5.4         2.1\n",
              "2          5.1         3.3          1.7         0.5\n",
              "3          6.0         3.4          4.5         1.6\n",
              "4          5.5         2.5          4.0         1.3"
            ]
          },
          "metadata": {
            "tags": []
          },
          "execution_count": 9
        }
      ]
    },
    {
      "cell_type": "markdown",
      "metadata": {
        "id": "5klDkiXhvJYg",
        "colab_type": "text"
      },
      "source": [
        "## Estimators"
      ]
    },
    {
      "cell_type": "markdown",
      "metadata": {
        "id": "rL8eCKFGvNXg",
        "colab_type": "text"
      },
      "source": [
        "To write a TensorFlow program based on pre-made Estimators, one must perform the following tasks:\n",
        "\n",
        "* Create one or more input functions.\n",
        "* Define the model's feature columns.\n",
        "* Instantiate an Estimator, specifying the feature columns and various hyperparameters.\n",
        "* Call one or more methods on the Estimator object, passing the appropriate input function as the source of the data."
      ]
    },
    {
      "cell_type": "markdown",
      "metadata": {
        "id": "LBsUVQhTvZDL",
        "colab_type": "text"
      },
      "source": [
        "### Creating input function"
      ]
    },
    {
      "cell_type": "markdown",
      "metadata": {
        "id": "GGvLEiMWvWyt",
        "colab_type": "text"
      },
      "source": [
        "An input function is a function that returns a `tf.data.Dataset` object which outputs the following two-element tuple:\n",
        "\n",
        "* `features` - A Python dictionary in which:\n",
        "  * Each key is the name of a feature.\n",
        "  * Each value is an array containing all of that feature's values.\n",
        "* `label` - An array containing the values of the `label` for every example."
      ]
    },
    {
      "cell_type": "code",
      "metadata": {
        "id": "tP7Mf64jvuuJ",
        "colab_type": "code",
        "colab": {}
      },
      "source": [
        "def input_fn(features, labels=None, training=True, testing=False, batch_size=256):\n",
        "    \"\"\" An input function for training, evaluation and testing \"\"\"\n",
        "\n",
        "    # convert the inputs to Dataset.\n",
        "    if not testing:\n",
        "        dataset = tf.data.Dataset.from_tensor_slices((dict(features), labels))\n",
        "    else:\n",
        "        dataset = tf.data.Dataset.from_tensor_slices((dict(features)))\n",
        "\n",
        "    # shuffle and repeat if dataset is for training.\n",
        "    if training:\n",
        "        dataset = dataset.shuffle(1000).repeat()\n",
        "\n",
        "    return dataset.batch(batch_size)"
      ],
      "execution_count": null,
      "outputs": []
    },
    {
      "cell_type": "markdown",
      "metadata": {
        "id": "LKHAAUROwp5v",
        "colab_type": "text"
      },
      "source": [
        "### Define feature columns"
      ]
    },
    {
      "cell_type": "code",
      "metadata": {
        "id": "URXZxPiSw0Zf",
        "colab_type": "code",
        "colab": {}
      },
      "source": [
        "my_feature_columns = []\n",
        "for key in train.keys():\n",
        "    my_feature_columns.append(tf.feature_column.numeric_column(key=key))"
      ],
      "execution_count": null,
      "outputs": []
    },
    {
      "cell_type": "code",
      "metadata": {
        "id": "OyXlVDYOw8Ga",
        "colab_type": "code",
        "colab": {
          "base_uri": "https://localhost:8080/",
          "height": 34
        },
        "outputId": "3349d622-15b2-40b3-cfa0-5bfbca820f0b"
      },
      "source": [
        "train.keys()"
      ],
      "execution_count": null,
      "outputs": [
        {
          "output_type": "execute_result",
          "data": {
            "text/plain": [
              "Index(['Sepallength', 'Sepalwidth', 'Petallength', 'Petalwidth'], dtype='object')"
            ]
          },
          "metadata": {
            "tags": []
          },
          "execution_count": 12
        }
      ]
    },
    {
      "cell_type": "code",
      "metadata": {
        "id": "OAu_SFd1xh0D",
        "colab_type": "code",
        "colab": {
          "base_uri": "https://localhost:8080/",
          "height": 104
        },
        "outputId": "93228074-ab1a-4086-a3ca-daabc7dc63da"
      },
      "source": [
        "my_feature_columns"
      ],
      "execution_count": null,
      "outputs": [
        {
          "output_type": "execute_result",
          "data": {
            "text/plain": [
              "[NumericColumn(key='Sepallength', shape=(1,), default_value=None, dtype=tf.float32, normalizer_fn=None),\n",
              " NumericColumn(key='Sepalwidth', shape=(1,), default_value=None, dtype=tf.float32, normalizer_fn=None),\n",
              " NumericColumn(key='Petallength', shape=(1,), default_value=None, dtype=tf.float32, normalizer_fn=None),\n",
              " NumericColumn(key='Petalwidth', shape=(1,), default_value=None, dtype=tf.float32, normalizer_fn=None)]"
            ]
          },
          "metadata": {
            "tags": []
          },
          "execution_count": 13
        }
      ]
    },
    {
      "cell_type": "markdown",
      "metadata": {
        "id": "eUBPzW-oxjwm",
        "colab_type": "text"
      },
      "source": [
        "## Instantiate an Estimator"
      ]
    },
    {
      "cell_type": "markdown",
      "metadata": {
        "id": "KEn2sEIJxviv",
        "colab_type": "text"
      },
      "source": [
        "The Iris problem is a classic classification problem. Fortunately, TensorFlow provides several pre-made classifier Estimators, including:\n",
        "\n",
        "* `tf.estimator.DNNClassifier` for deep models that perform multi-class classification.\n",
        "* `tf.estimator.DNNLinearCombinedClassifier` for wide & deep models.\n",
        "* `tf.estimator.LinearClassifier` for classifiers based on linear models.\n",
        "\n",
        "For the Iris problem, `tf.estimator.DNNClassifier` seems like the best choice."
      ]
    },
    {
      "cell_type": "code",
      "metadata": {
        "id": "JSUyN6SQyIHh",
        "colab_type": "code",
        "colab": {
          "base_uri": "https://localhost:8080/",
          "height": 188
        },
        "outputId": "371c1653-95cc-45a3-e7de-af511a7def6b"
      },
      "source": [
        "# Build a DNN with 2 hidden layers with 30 and 10 hidden nodes each\n",
        "\n",
        "classifier = tf.estimator.DNNClassifier(feature_columns=my_feature_columns,\n",
        "                                        hidden_units=[30, 10],\n",
        "                                        n_classes=3)"
      ],
      "execution_count": null,
      "outputs": [
        {
          "output_type": "stream",
          "text": [
            "INFO:tensorflow:Using default config.\n",
            "WARNING:tensorflow:Using temporary folder as model directory: /tmp/tmpalv8ohpe\n",
            "INFO:tensorflow:Using config: {'_model_dir': '/tmp/tmpalv8ohpe', '_tf_random_seed': None, '_save_summary_steps': 100, '_save_checkpoints_steps': None, '_save_checkpoints_secs': 600, '_session_config': allow_soft_placement: true\n",
            "graph_options {\n",
            "  rewrite_options {\n",
            "    meta_optimizer_iterations: ONE\n",
            "  }\n",
            "}\n",
            ", '_keep_checkpoint_max': 5, '_keep_checkpoint_every_n_hours': 10000, '_log_step_count_steps': 100, '_train_distribute': None, '_device_fn': None, '_protocol': None, '_eval_distribute': None, '_experimental_distribute': None, '_experimental_max_worker_delay_secs': None, '_session_creation_timeout_secs': 7200, '_service': None, '_cluster_spec': ClusterSpec({}), '_task_type': 'worker', '_task_id': 0, '_global_id_in_cluster': 0, '_master': '', '_evaluation_master': '', '_is_chief': True, '_num_ps_replicas': 0, '_num_worker_replicas': 1}\n"
          ],
          "name": "stdout"
        }
      ]
    },
    {
      "cell_type": "markdown",
      "metadata": {
        "id": "P7P7xWyMyhYP",
        "colab_type": "text"
      },
      "source": [
        "## Train, Evaluate, and Predict"
      ]
    },
    {
      "cell_type": "markdown",
      "metadata": {
        "id": "VXrt9slkym4z",
        "colab_type": "text"
      },
      "source": [
        "### Train the model"
      ]
    },
    {
      "cell_type": "code",
      "metadata": {
        "id": "vjgt1LJgyrhJ",
        "colab_type": "code",
        "colab": {
          "base_uri": "https://localhost:8080/",
          "height": 1000
        },
        "outputId": "b8d9c320-86dd-4021-f974-82fa0697f90d"
      },
      "source": [
        "classifier.train(input_fn=lambda: input_fn(train, train_y, training=True),\n",
        "                 steps=5000) "
      ],
      "execution_count": null,
      "outputs": [
        {
          "output_type": "stream",
          "text": [
            "WARNING:tensorflow:From /usr/local/lib/python3.6/dist-packages/tensorflow/python/ops/resource_variable_ops.py:1666: calling BaseResourceVariable.__init__ (from tensorflow.python.ops.resource_variable_ops) with constraint is deprecated and will be removed in a future version.\n",
            "Instructions for updating:\n",
            "If using Keras pass *_constraint arguments to layers.\n",
            "WARNING:tensorflow:From /usr/local/lib/python3.6/dist-packages/tensorflow/python/training/training_util.py:236: Variable.initialized_value (from tensorflow.python.ops.variables) is deprecated and will be removed in a future version.\n",
            "Instructions for updating:\n",
            "Use Variable.read_value. Variables in 2.X are initialized automatically both in eager and graph (inside tf.defun) contexts.\n",
            "INFO:tensorflow:Calling model_fn.\n",
            "WARNING:tensorflow:Layer dnn is casting an input tensor from dtype float64 to the layer's dtype of float32, which is new behavior in TensorFlow 2.  The layer has dtype float32 because it's dtype defaults to floatx.\n",
            "\n",
            "If you intended to run this layer in float32, you can safely ignore this warning. If in doubt, this warning is likely only an issue if you are porting a TensorFlow 1.X model to TensorFlow 2.\n",
            "\n",
            "To change all layers to have dtype float64 by default, call `tf.keras.backend.set_floatx('float64')`. To change just this layer, pass dtype='float64' to the layer constructor. If you are the author of this layer, you can disable autocasting by passing autocast=False to the base Layer constructor.\n",
            "\n",
            "WARNING:tensorflow:From /usr/local/lib/python3.6/dist-packages/tensorflow/python/keras/optimizer_v2/adagrad.py:106: calling Constant.__init__ (from tensorflow.python.ops.init_ops) with dtype is deprecated and will be removed in a future version.\n",
            "Instructions for updating:\n",
            "Call initializer instance with the dtype argument instead of passing it to the constructor\n",
            "INFO:tensorflow:Done calling model_fn.\n",
            "INFO:tensorflow:Create CheckpointSaverHook.\n",
            "INFO:tensorflow:Graph was finalized.\n",
            "INFO:tensorflow:Running local_init_op.\n",
            "INFO:tensorflow:Done running local_init_op.\n",
            "INFO:tensorflow:Calling checkpoint listeners before saving checkpoint 0...\n",
            "INFO:tensorflow:Saving checkpoints for 0 into /tmp/tmpalv8ohpe/model.ckpt.\n",
            "INFO:tensorflow:Calling checkpoint listeners after saving checkpoint 0...\n",
            "INFO:tensorflow:loss = 1.1134752, step = 0\n",
            "INFO:tensorflow:global_step/sec: 532.27\n",
            "INFO:tensorflow:loss = 0.91822433, step = 100 (0.191 sec)\n",
            "INFO:tensorflow:global_step/sec: 623.985\n",
            "INFO:tensorflow:loss = 0.8784205, step = 200 (0.158 sec)\n",
            "INFO:tensorflow:global_step/sec: 646.281\n",
            "INFO:tensorflow:loss = 0.8365828, step = 300 (0.155 sec)\n",
            "INFO:tensorflow:global_step/sec: 659.393\n",
            "INFO:tensorflow:loss = 0.81698, step = 400 (0.154 sec)\n",
            "INFO:tensorflow:global_step/sec: 612.224\n",
            "INFO:tensorflow:loss = 0.79692215, step = 500 (0.161 sec)\n",
            "INFO:tensorflow:global_step/sec: 576.222\n",
            "INFO:tensorflow:loss = 0.7770377, step = 600 (0.176 sec)\n",
            "INFO:tensorflow:global_step/sec: 665.96\n",
            "INFO:tensorflow:loss = 0.7625164, step = 700 (0.149 sec)\n",
            "INFO:tensorflow:global_step/sec: 677.715\n",
            "INFO:tensorflow:loss = 0.7468006, step = 800 (0.148 sec)\n",
            "INFO:tensorflow:global_step/sec: 685.777\n",
            "INFO:tensorflow:loss = 0.72978055, step = 900 (0.145 sec)\n",
            "INFO:tensorflow:global_step/sec: 702.991\n",
            "INFO:tensorflow:loss = 0.71566343, step = 1000 (0.142 sec)\n",
            "INFO:tensorflow:global_step/sec: 691.628\n",
            "INFO:tensorflow:loss = 0.7079994, step = 1100 (0.143 sec)\n",
            "INFO:tensorflow:global_step/sec: 703.452\n",
            "INFO:tensorflow:loss = 0.6885822, step = 1200 (0.142 sec)\n",
            "INFO:tensorflow:global_step/sec: 704.974\n",
            "INFO:tensorflow:loss = 0.6802238, step = 1300 (0.142 sec)\n",
            "INFO:tensorflow:global_step/sec: 708.311\n",
            "INFO:tensorflow:loss = 0.6653614, step = 1400 (0.143 sec)\n",
            "INFO:tensorflow:global_step/sec: 623.994\n",
            "INFO:tensorflow:loss = 0.6513796, step = 1500 (0.158 sec)\n",
            "INFO:tensorflow:global_step/sec: 694.58\n",
            "INFO:tensorflow:loss = 0.6401684, step = 1600 (0.144 sec)\n",
            "INFO:tensorflow:global_step/sec: 716.261\n",
            "INFO:tensorflow:loss = 0.63279474, step = 1700 (0.140 sec)\n",
            "INFO:tensorflow:global_step/sec: 718.55\n",
            "INFO:tensorflow:loss = 0.623778, step = 1800 (0.139 sec)\n",
            "INFO:tensorflow:global_step/sec: 689.789\n",
            "INFO:tensorflow:loss = 0.60645306, step = 1900 (0.145 sec)\n",
            "INFO:tensorflow:global_step/sec: 704.865\n",
            "INFO:tensorflow:loss = 0.6038892, step = 2000 (0.142 sec)\n",
            "INFO:tensorflow:global_step/sec: 710.441\n",
            "INFO:tensorflow:loss = 0.5921024, step = 2100 (0.141 sec)\n",
            "INFO:tensorflow:global_step/sec: 712.429\n",
            "INFO:tensorflow:loss = 0.5812171, step = 2200 (0.143 sec)\n",
            "INFO:tensorflow:global_step/sec: 662.174\n",
            "INFO:tensorflow:loss = 0.5814836, step = 2300 (0.149 sec)\n",
            "INFO:tensorflow:global_step/sec: 646.141\n",
            "INFO:tensorflow:loss = 0.5661562, step = 2400 (0.157 sec)\n",
            "INFO:tensorflow:global_step/sec: 688.796\n",
            "INFO:tensorflow:loss = 0.56630707, step = 2500 (0.145 sec)\n",
            "INFO:tensorflow:global_step/sec: 703.775\n",
            "INFO:tensorflow:loss = 0.56099594, step = 2600 (0.142 sec)\n",
            "INFO:tensorflow:global_step/sec: 695.481\n",
            "INFO:tensorflow:loss = 0.538714, step = 2700 (0.142 sec)\n",
            "INFO:tensorflow:global_step/sec: 711.962\n",
            "INFO:tensorflow:loss = 0.53787386, step = 2800 (0.140 sec)\n",
            "INFO:tensorflow:global_step/sec: 688.854\n",
            "INFO:tensorflow:loss = 0.5281022, step = 2900 (0.145 sec)\n",
            "INFO:tensorflow:global_step/sec: 679.605\n",
            "INFO:tensorflow:loss = 0.51769084, step = 3000 (0.150 sec)\n",
            "INFO:tensorflow:global_step/sec: 707.34\n",
            "INFO:tensorflow:loss = 0.5052678, step = 3100 (0.141 sec)\n",
            "INFO:tensorflow:global_step/sec: 709.003\n",
            "INFO:tensorflow:loss = 0.5093017, step = 3200 (0.141 sec)\n",
            "INFO:tensorflow:global_step/sec: 701.718\n",
            "INFO:tensorflow:loss = 0.49732974, step = 3300 (0.140 sec)\n",
            "INFO:tensorflow:global_step/sec: 711.908\n",
            "INFO:tensorflow:loss = 0.49252874, step = 3400 (0.143 sec)\n",
            "INFO:tensorflow:global_step/sec: 655.512\n",
            "INFO:tensorflow:loss = 0.48685148, step = 3500 (0.154 sec)\n",
            "INFO:tensorflow:global_step/sec: 639.663\n",
            "INFO:tensorflow:loss = 0.48209995, step = 3600 (0.156 sec)\n",
            "INFO:tensorflow:global_step/sec: 686.77\n",
            "INFO:tensorflow:loss = 0.47354403, step = 3700 (0.143 sec)\n",
            "INFO:tensorflow:global_step/sec: 661.065\n",
            "INFO:tensorflow:loss = 0.46739608, step = 3800 (0.153 sec)\n",
            "INFO:tensorflow:global_step/sec: 703.044\n",
            "INFO:tensorflow:loss = 0.46225098, step = 3900 (0.140 sec)\n",
            "INFO:tensorflow:global_step/sec: 704.907\n",
            "INFO:tensorflow:loss = 0.46818537, step = 4000 (0.143 sec)\n",
            "INFO:tensorflow:global_step/sec: 700.552\n",
            "INFO:tensorflow:loss = 0.45585358, step = 4100 (0.143 sec)\n",
            "INFO:tensorflow:global_step/sec: 683.727\n",
            "INFO:tensorflow:loss = 0.44774804, step = 4200 (0.147 sec)\n",
            "INFO:tensorflow:global_step/sec: 695.06\n",
            "INFO:tensorflow:loss = 0.4318085, step = 4300 (0.143 sec)\n",
            "INFO:tensorflow:global_step/sec: 707.143\n",
            "INFO:tensorflow:loss = 0.4504314, step = 4400 (0.142 sec)\n",
            "INFO:tensorflow:global_step/sec: 714.55\n",
            "INFO:tensorflow:loss = 0.43219644, step = 4500 (0.138 sec)\n",
            "INFO:tensorflow:global_step/sec: 695.271\n",
            "INFO:tensorflow:loss = 0.42081368, step = 4600 (0.144 sec)\n",
            "INFO:tensorflow:global_step/sec: 720.201\n",
            "INFO:tensorflow:loss = 0.42249584, step = 4700 (0.141 sec)\n",
            "INFO:tensorflow:global_step/sec: 708.713\n",
            "INFO:tensorflow:loss = 0.41738278, step = 4800 (0.139 sec)\n",
            "INFO:tensorflow:global_step/sec: 711.742\n",
            "INFO:tensorflow:loss = 0.40800604, step = 4900 (0.141 sec)\n",
            "INFO:tensorflow:Calling checkpoint listeners before saving checkpoint 5000...\n",
            "INFO:tensorflow:Saving checkpoints for 5000 into /tmp/tmpalv8ohpe/model.ckpt.\n",
            "INFO:tensorflow:Calling checkpoint listeners after saving checkpoint 5000...\n",
            "INFO:tensorflow:Loss for final step: 0.41408354.\n"
          ],
          "name": "stdout"
        },
        {
          "output_type": "execute_result",
          "data": {
            "text/plain": [
              "<tensorflow_estimator.python.estimator.canned.dnn.DNNClassifierV2 at 0x7fd5ff44fb70>"
            ]
          },
          "metadata": {
            "tags": []
          },
          "execution_count": 15
        }
      ]
    },
    {
      "cell_type": "markdown",
      "metadata": {
        "id": "SVHwEQK3zCl4",
        "colab_type": "text"
      },
      "source": [
        "### Evaluate the trained model"
      ]
    },
    {
      "cell_type": "code",
      "metadata": {
        "id": "wO7RHxguzcJp",
        "colab_type": "code",
        "colab": {
          "base_uri": "https://localhost:8080/",
          "height": 356
        },
        "outputId": "4e1052e2-9929-415a-da3e-1c62de22f406"
      },
      "source": [
        "eval_result = classifier.evaluate(input_fn= lambda: input_fn(test, test_y, training=False))\n",
        "\n",
        "print('Evaluation results: ')\n",
        "print(eval_result)"
      ],
      "execution_count": null,
      "outputs": [
        {
          "output_type": "stream",
          "text": [
            "INFO:tensorflow:Calling model_fn.\n",
            "WARNING:tensorflow:Layer dnn is casting an input tensor from dtype float64 to the layer's dtype of float32, which is new behavior in TensorFlow 2.  The layer has dtype float32 because it's dtype defaults to floatx.\n",
            "\n",
            "If you intended to run this layer in float32, you can safely ignore this warning. If in doubt, this warning is likely only an issue if you are porting a TensorFlow 1.X model to TensorFlow 2.\n",
            "\n",
            "To change all layers to have dtype float64 by default, call `tf.keras.backend.set_floatx('float64')`. To change just this layer, pass dtype='float64' to the layer constructor. If you are the author of this layer, you can disable autocasting by passing autocast=False to the base Layer constructor.\n",
            "\n",
            "INFO:tensorflow:Done calling model_fn.\n",
            "INFO:tensorflow:Starting evaluation at 2020-04-12T05:36:42Z\n",
            "INFO:tensorflow:Graph was finalized.\n",
            "INFO:tensorflow:Restoring parameters from /tmp/tmpalv8ohpe/model.ckpt-5000\n",
            "INFO:tensorflow:Running local_init_op.\n",
            "INFO:tensorflow:Done running local_init_op.\n",
            "INFO:tensorflow:Inference Time : 0.20944s\n",
            "INFO:tensorflow:Finished evaluation at 2020-04-12-05:36:42\n",
            "INFO:tensorflow:Saving dict for global step 5000: accuracy = 0.93333334, average_loss = 0.46515837, global_step = 5000, loss = 0.46515837\n",
            "INFO:tensorflow:Saving 'checkpoint_path' summary for global step 5000: /tmp/tmpalv8ohpe/model.ckpt-5000\n",
            "Evaluation results: \n",
            "{'accuracy': 0.93333334, 'average_loss': 0.46515837, 'loss': 0.46515837, 'global_step': 5000}\n"
          ],
          "name": "stdout"
        }
      ]
    },
    {
      "cell_type": "code",
      "metadata": {
        "id": "1TZMypBaztoB",
        "colab_type": "code",
        "colab": {
          "base_uri": "https://localhost:8080/",
          "height": 70
        },
        "outputId": "7f81c8a3-aa41-4b2b-cd2c-76cd154e4567"
      },
      "source": [
        "print('Evaluation results: ')\n",
        "print(eval_result)"
      ],
      "execution_count": null,
      "outputs": [
        {
          "output_type": "stream",
          "text": [
            "Evaluation results: \n",
            "{'accuracy': 0.93333334, 'average_loss': 0.46515837, 'loss': 0.46515837, 'global_step': 5000}\n"
          ],
          "name": "stdout"
        }
      ]
    },
    {
      "cell_type": "markdown",
      "metadata": {
        "id": "dc1AEq7Sz9rb",
        "colab_type": "text"
      },
      "source": [
        "### Making Prediction from the trained model\n",
        "**on the test dataset**"
      ]
    },
    {
      "cell_type": "code",
      "metadata": {
        "id": "cN7A-c5q0Jip",
        "colab_type": "code",
        "colab": {}
      },
      "source": [
        "predictions = classifier.predict(input_fn= lambda: input_fn(test, training=False, testing=True))"
      ],
      "execution_count": null,
      "outputs": []
    },
    {
      "cell_type": "code",
      "metadata": {
        "id": "0JOOIko60grU",
        "colab_type": "code",
        "colab": {
          "base_uri": "https://localhost:8080/",
          "height": 34
        },
        "outputId": "fd4fa976-a724-489b-cbc1-79400c649fb6"
      },
      "source": [
        "print(predictions)"
      ],
      "execution_count": null,
      "outputs": [
        {
          "output_type": "stream",
          "text": [
            "<generator object Estimator.predict at 0x7fd5f8d16eb8>\n"
          ],
          "name": "stdout"
        }
      ]
    },
    {
      "cell_type": "code",
      "metadata": {
        "id": "zyBMWZOk2VVE",
        "colab_type": "code",
        "colab": {
          "base_uri": "https://localhost:8080/",
          "height": 742
        },
        "outputId": "a544b28a-9b3d-44de-b94d-3c95a845260e"
      },
      "source": [
        "for pred_dict, expec in zip(predictions, test_y):\n",
        "    class_id = pred_dict['class_ids'][0]\n",
        "    probability = pred_dict['probabilities'][class_id]\n",
        "\n",
        "    print('Prediction is \"{}\" ({:.1f}%), expected \"{}\"'. format(SPECIES[class_id], 100*probability, SPECIES[expec]))"
      ],
      "execution_count": null,
      "outputs": [
        {
          "output_type": "stream",
          "text": [
            "INFO:tensorflow:Calling model_fn.\n",
            "WARNING:tensorflow:Layer dnn is casting an input tensor from dtype float64 to the layer's dtype of float32, which is new behavior in TensorFlow 2.  The layer has dtype float32 because it's dtype defaults to floatx.\n",
            "\n",
            "If you intended to run this layer in float32, you can safely ignore this warning. If in doubt, this warning is likely only an issue if you are porting a TensorFlow 1.X model to TensorFlow 2.\n",
            "\n",
            "To change all layers to have dtype float64 by default, call `tf.keras.backend.set_floatx('float64')`. To change just this layer, pass dtype='float64' to the layer constructor. If you are the author of this layer, you can disable autocasting by passing autocast=False to the base Layer constructor.\n",
            "\n",
            "INFO:tensorflow:Done calling model_fn.\n",
            "INFO:tensorflow:Graph was finalized.\n",
            "INFO:tensorflow:Restoring parameters from /tmp/tmpalv8ohpe/model.ckpt-5000\n",
            "INFO:tensorflow:Running local_init_op.\n",
            "INFO:tensorflow:Done running local_init_op.\n",
            "Prediction is \"Versicolor\" (51.8%), expected \"Versicolor\"\n",
            "Prediction is \"Viginica\" (65.8%), expected \"Viginica\"\n",
            "Prediction is \"Setosa\" (71.1%), expected \"Setosa\"\n",
            "Prediction is \"Versicolor\" (49.9%), expected \"Versicolor\"\n",
            "Prediction is \"Versicolor\" (50.4%), expected \"Versicolor\"\n",
            "Prediction is \"Versicolor\" (57.0%), expected \"Versicolor\"\n",
            "Prediction is \"Setosa\" (80.9%), expected \"Setosa\"\n",
            "Prediction is \"Viginica\" (55.2%), expected \"Viginica\"\n",
            "Prediction is \"Versicolor\" (53.7%), expected \"Versicolor\"\n",
            "Prediction is \"Viginica\" (72.3%), expected \"Viginica\"\n",
            "Prediction is \"Viginica\" (72.1%), expected \"Viginica\"\n",
            "Prediction is \"Setosa\" (75.5%), expected \"Setosa\"\n",
            "Prediction is \"Viginica\" (73.7%), expected \"Viginica\"\n",
            "Prediction is \"Versicolor\" (49.0%), expected \"Versicolor\"\n",
            "Prediction is \"Versicolor\" (58.4%), expected \"Versicolor\"\n",
            "Prediction is \"Setosa\" (78.5%), expected \"Setosa\"\n",
            "Prediction is \"Versicolor\" (59.2%), expected \"Versicolor\"\n",
            "Prediction is \"Setosa\" (71.0%), expected \"Setosa\"\n",
            "Prediction is \"Setosa\" (78.2%), expected \"Setosa\"\n",
            "Prediction is \"Viginica\" (76.2%), expected \"Viginica\"\n",
            "Prediction is \"Setosa\" (78.0%), expected \"Setosa\"\n",
            "Prediction is \"Viginica\" (51.8%), expected \"Versicolor\"\n",
            "Prediction is \"Viginica\" (70.8%), expected \"Viginica\"\n",
            "Prediction is \"Viginica\" (54.2%), expected \"Versicolor\"\n",
            "Prediction is \"Versicolor\" (57.2%), expected \"Versicolor\"\n",
            "Prediction is \"Versicolor\" (51.2%), expected \"Versicolor\"\n",
            "Prediction is \"Setosa\" (80.3%), expected \"Setosa\"\n",
            "Prediction is \"Versicolor\" (55.3%), expected \"Versicolor\"\n",
            "Prediction is \"Viginica\" (79.7%), expected \"Viginica\"\n",
            "Prediction is \"Versicolor\" (58.8%), expected \"Versicolor\"\n"
          ],
          "name": "stdout"
        }
      ]
    },
    {
      "cell_type": "code",
      "metadata": {
        "id": "KIOK4AJ54nAb",
        "colab_type": "code",
        "colab": {}
      },
      "source": [
        ""
      ],
      "execution_count": null,
      "outputs": []
    }
  ]
}